{
 "cells": [
  {
   "cell_type": "markdown",
   "id": "f56d27ee",
   "metadata": {},
   "source": [
    "## Import Required libraries "
   ]
  },
  {
   "cell_type": "code",
   "execution_count": 1,
   "id": "f96922a9",
   "metadata": {
    "scrolled": true
   },
   "outputs": [],
   "source": [
    "import pandas as pd\n",
    "import numpy as np\n",
    "import matplotlib.pyplot as plt\n",
    "import seaborn as sns\n",
    "from sklearn.preprocessing import MinMaxScaler\n",
    "from tqdm.notebook import tqdm\n",
    "from sklearn.preprocessing import LabelEncoder\n",
    "from sklearn.linear_model import Lasso\n",
    "from sklearn.metrics import mean_squared_error\n",
    "from sklearn.linear_model import Ridge\n",
    "import pickle\n",
    "from sklearn.linear_model import LinearRegression\n",
    "import warnings\n",
    "warnings.filterwarnings('ignore')"
   ]
  },
  {
   "cell_type": "markdown",
   "id": "dee5a368",
   "metadata": {},
   "source": [
    "## Load the data into Pandas Dataframe"
   ]
  },
  {
   "cell_type": "code",
   "execution_count": 2,
   "id": "d383cfea",
   "metadata": {},
   "outputs": [],
   "source": [
    "df = pd.read_csv(\"housing_data.csv\")"
   ]
  },
  {
   "cell_type": "code",
   "execution_count": 3,
   "id": "7ddb24e3",
   "metadata": {},
   "outputs": [
    {
     "data": {
      "text/html": [
       "<div>\n",
       "<style scoped>\n",
       "    .dataframe tbody tr th:only-of-type {\n",
       "        vertical-align: middle;\n",
       "    }\n",
       "\n",
       "    .dataframe tbody tr th {\n",
       "        vertical-align: top;\n",
       "    }\n",
       "\n",
       "    .dataframe thead th {\n",
       "        text-align: right;\n",
       "    }\n",
       "</style>\n",
       "<table border=\"1\" class=\"dataframe\">\n",
       "  <thead>\n",
       "    <tr style=\"text-align: right;\">\n",
       "      <th></th>\n",
       "      <th>Bedrooms</th>\n",
       "      <th>Bathrooms</th>\n",
       "      <th>SquareFootage</th>\n",
       "      <th>Location</th>\n",
       "      <th>SalePrice</th>\n",
       "    </tr>\n",
       "  </thead>\n",
       "  <tbody>\n",
       "    <tr>\n",
       "      <th>0</th>\n",
       "      <td>3</td>\n",
       "      <td>2.0</td>\n",
       "      <td>1800</td>\n",
       "      <td>A</td>\n",
       "      <td>250000</td>\n",
       "    </tr>\n",
       "    <tr>\n",
       "      <th>1</th>\n",
       "      <td>4</td>\n",
       "      <td>3.0</td>\n",
       "      <td>2200</td>\n",
       "      <td>B</td>\n",
       "      <td>320000</td>\n",
       "    </tr>\n",
       "    <tr>\n",
       "      <th>2</th>\n",
       "      <td>2</td>\n",
       "      <td>1.0</td>\n",
       "      <td>1200</td>\n",
       "      <td>A</td>\n",
       "      <td>180000</td>\n",
       "    </tr>\n",
       "    <tr>\n",
       "      <th>3</th>\n",
       "      <td>3</td>\n",
       "      <td>2.5</td>\n",
       "      <td>2000</td>\n",
       "      <td>C</td>\n",
       "      <td>280000</td>\n",
       "    </tr>\n",
       "    <tr>\n",
       "      <th>4</th>\n",
       "      <td>4</td>\n",
       "      <td>2.5</td>\n",
       "      <td>2400</td>\n",
       "      <td>B</td>\n",
       "      <td>350000</td>\n",
       "    </tr>\n",
       "    <tr>\n",
       "      <th>...</th>\n",
       "      <td>...</td>\n",
       "      <td>...</td>\n",
       "      <td>...</td>\n",
       "      <td>...</td>\n",
       "      <td>...</td>\n",
       "    </tr>\n",
       "    <tr>\n",
       "      <th>62</th>\n",
       "      <td>4</td>\n",
       "      <td>3.0</td>\n",
       "      <td>2300</td>\n",
       "      <td>C</td>\n",
       "      <td>330000</td>\n",
       "    </tr>\n",
       "    <tr>\n",
       "      <th>63</th>\n",
       "      <td>3</td>\n",
       "      <td>2.5</td>\n",
       "      <td>2100</td>\n",
       "      <td>A</td>\n",
       "      <td>290000</td>\n",
       "    </tr>\n",
       "    <tr>\n",
       "      <th>64</th>\n",
       "      <td>1</td>\n",
       "      <td>1.0</td>\n",
       "      <td>900</td>\n",
       "      <td>B</td>\n",
       "      <td>150000</td>\n",
       "    </tr>\n",
       "    <tr>\n",
       "      <th>65</th>\n",
       "      <td>2</td>\n",
       "      <td>1.5</td>\n",
       "      <td>1200</td>\n",
       "      <td>C</td>\n",
       "      <td>170000</td>\n",
       "    </tr>\n",
       "    <tr>\n",
       "      <th>66</th>\n",
       "      <td>3</td>\n",
       "      <td>2.0</td>\n",
       "      <td>1800</td>\n",
       "      <td>A</td>\n",
       "      <td>250000</td>\n",
       "    </tr>\n",
       "  </tbody>\n",
       "</table>\n",
       "<p>67 rows × 5 columns</p>\n",
       "</div>"
      ],
      "text/plain": [
       "    Bedrooms   Bathrooms   SquareFootage  Location   SalePrice\n",
       "0          3         2.0            1800         A      250000\n",
       "1          4         3.0            2200         B      320000\n",
       "2          2         1.0            1200         A      180000\n",
       "3          3         2.5            2000         C      280000\n",
       "4          4         2.5            2400         B      350000\n",
       "..       ...         ...             ...       ...         ...\n",
       "62         4         3.0            2300         C      330000\n",
       "63         3         2.5            2100         A      290000\n",
       "64         1         1.0             900         B      150000\n",
       "65         2         1.5            1200         C      170000\n",
       "66         3         2.0            1800         A      250000\n",
       "\n",
       "[67 rows x 5 columns]"
      ]
     },
     "execution_count": 3,
     "metadata": {},
     "output_type": "execute_result"
    }
   ],
   "source": [
    "df"
   ]
  },
  {
   "cell_type": "markdown",
   "id": "5163ec52",
   "metadata": {},
   "source": [
    "## Basic Analysis on the data"
   ]
  },
  {
   "cell_type": "code",
   "execution_count": 4,
   "id": "3c6e7b1d",
   "metadata": {
    "scrolled": true
   },
   "outputs": [
    {
     "data": {
      "text/html": [
       "<div>\n",
       "<style scoped>\n",
       "    .dataframe tbody tr th:only-of-type {\n",
       "        vertical-align: middle;\n",
       "    }\n",
       "\n",
       "    .dataframe tbody tr th {\n",
       "        vertical-align: top;\n",
       "    }\n",
       "\n",
       "    .dataframe thead th {\n",
       "        text-align: right;\n",
       "    }\n",
       "</style>\n",
       "<table border=\"1\" class=\"dataframe\">\n",
       "  <thead>\n",
       "    <tr style=\"text-align: right;\">\n",
       "      <th></th>\n",
       "      <th>Bedrooms</th>\n",
       "      <th>Bathrooms</th>\n",
       "      <th>SquareFootage</th>\n",
       "      <th>SalePrice</th>\n",
       "    </tr>\n",
       "  </thead>\n",
       "  <tbody>\n",
       "    <tr>\n",
       "      <th>count</th>\n",
       "      <td>67.000000</td>\n",
       "      <td>67.000000</td>\n",
       "      <td>67.000000</td>\n",
       "      <td>67.000000</td>\n",
       "    </tr>\n",
       "    <tr>\n",
       "      <th>mean</th>\n",
       "      <td>2.820896</td>\n",
       "      <td>2.044776</td>\n",
       "      <td>1749.253731</td>\n",
       "      <td>253432.835821</td>\n",
       "    </tr>\n",
       "    <tr>\n",
       "      <th>std</th>\n",
       "      <td>0.936230</td>\n",
       "      <td>0.689375</td>\n",
       "      <td>504.937180</td>\n",
       "      <td>65007.044812</td>\n",
       "    </tr>\n",
       "    <tr>\n",
       "      <th>min</th>\n",
       "      <td>1.000000</td>\n",
       "      <td>1.000000</td>\n",
       "      <td>900.000000</td>\n",
       "      <td>150000.000000</td>\n",
       "    </tr>\n",
       "    <tr>\n",
       "      <th>25%</th>\n",
       "      <td>2.000000</td>\n",
       "      <td>1.500000</td>\n",
       "      <td>1200.000000</td>\n",
       "      <td>190000.000000</td>\n",
       "    </tr>\n",
       "    <tr>\n",
       "      <th>50%</th>\n",
       "      <td>3.000000</td>\n",
       "      <td>2.000000</td>\n",
       "      <td>1900.000000</td>\n",
       "      <td>260000.000000</td>\n",
       "    </tr>\n",
       "    <tr>\n",
       "      <th>75%</th>\n",
       "      <td>4.000000</td>\n",
       "      <td>2.500000</td>\n",
       "      <td>2200.000000</td>\n",
       "      <td>320000.000000</td>\n",
       "    </tr>\n",
       "    <tr>\n",
       "      <th>max</th>\n",
       "      <td>4.000000</td>\n",
       "      <td>3.000000</td>\n",
       "      <td>2400.000000</td>\n",
       "      <td>350000.000000</td>\n",
       "    </tr>\n",
       "  </tbody>\n",
       "</table>\n",
       "</div>"
      ],
      "text/plain": [
       "        Bedrooms   Bathrooms   SquareFootage      SalePrice\n",
       "count  67.000000   67.000000       67.000000      67.000000\n",
       "mean    2.820896    2.044776     1749.253731  253432.835821\n",
       "std     0.936230    0.689375      504.937180   65007.044812\n",
       "min     1.000000    1.000000      900.000000  150000.000000\n",
       "25%     2.000000    1.500000     1200.000000  190000.000000\n",
       "50%     3.000000    2.000000     1900.000000  260000.000000\n",
       "75%     4.000000    2.500000     2200.000000  320000.000000\n",
       "max     4.000000    3.000000     2400.000000  350000.000000"
      ]
     },
     "execution_count": 4,
     "metadata": {},
     "output_type": "execute_result"
    }
   ],
   "source": [
    "df.describe()"
   ]
  },
  {
   "cell_type": "code",
   "execution_count": 5,
   "id": "72ce8e4e",
   "metadata": {},
   "outputs": [
    {
     "name": "stdout",
     "output_type": "stream",
     "text": [
      "<class 'pandas.core.frame.DataFrame'>\n",
      "RangeIndex: 67 entries, 0 to 66\n",
      "Data columns (total 5 columns):\n",
      " #   Column          Non-Null Count  Dtype  \n",
      "---  ------          --------------  -----  \n",
      " 0   Bedrooms        67 non-null     int64  \n",
      " 1    Bathrooms      67 non-null     float64\n",
      " 2    SquareFootage  67 non-null     int64  \n",
      " 3    Location       67 non-null     object \n",
      " 4    SalePrice      67 non-null     int64  \n",
      "dtypes: float64(1), int64(3), object(1)\n",
      "memory usage: 2.7+ KB\n"
     ]
    }
   ],
   "source": [
    "df.info()"
   ]
  },
  {
   "cell_type": "code",
   "execution_count": 6,
   "id": "eda3b78b",
   "metadata": {},
   "outputs": [
    {
     "data": {
      "text/plain": [
       " A    23\n",
       " B    22\n",
       " C    22\n",
       "Name:  Location, dtype: int64"
      ]
     },
     "execution_count": 6,
     "metadata": {},
     "output_type": "execute_result"
    }
   ],
   "source": [
    "df[\" Location\"].value_counts()"
   ]
  },
  {
   "cell_type": "code",
   "execution_count": 7,
   "id": "f76f7827",
   "metadata": {},
   "outputs": [
    {
     "data": {
      "text/plain": [
       "Bedrooms          0\n",
       " Bathrooms        0\n",
       " SquareFootage    0\n",
       " Location         0\n",
       " SalePrice        0\n",
       "dtype: int64"
      ]
     },
     "execution_count": 7,
     "metadata": {},
     "output_type": "execute_result"
    }
   ],
   "source": [
    "df.isnull().sum()"
   ]
  },
  {
   "cell_type": "code",
   "execution_count": 8,
   "id": "f8c6029d",
   "metadata": {},
   "outputs": [
    {
     "name": "stdout",
     "output_type": "stream",
     "text": [
      "Number of Duplicates 41\n"
     ]
    }
   ],
   "source": [
    "print(\"Number of Duplicates\" ,len(df[df.duplicated()])) "
   ]
  },
  {
   "cell_type": "code",
   "execution_count": 9,
   "id": "c958d9cb",
   "metadata": {},
   "outputs": [],
   "source": [
    "# write a function to visualize the outliers in the dataset\n",
    "def plot_outliers(df, col):\n",
    "    plt.figure(figsize=(8,3))\n",
    "    sns.boxplot(x=df[col])\n",
    "    for i in range(90,101):\n",
    "        print(\"{}th percenile value of Bedrooms count: {}\".format(i,np.percentile(df[col].values,i)))\n",
    "    outlier_item_cnt = np.percentile(df[col].values,100)"
   ]
  },
  {
   "cell_type": "code",
   "execution_count": 10,
   "id": "25d21db4",
   "metadata": {
    "scrolled": false
   },
   "outputs": [
    {
     "name": "stdout",
     "output_type": "stream",
     "text": [
      "90th percenile value of Bedrooms count: 4.0\n",
      "91th percenile value of Bedrooms count: 4.0\n",
      "92th percenile value of Bedrooms count: 4.0\n",
      "93th percenile value of Bedrooms count: 4.0\n",
      "94th percenile value of Bedrooms count: 4.0\n",
      "95th percenile value of Bedrooms count: 4.0\n",
      "96th percenile value of Bedrooms count: 4.0\n",
      "97th percenile value of Bedrooms count: 4.0\n",
      "98th percenile value of Bedrooms count: 4.0\n",
      "99th percenile value of Bedrooms count: 4.0\n",
      "100th percenile value of Bedrooms count: 4.0\n",
      "--------------------------------------------------\n",
      "90th percenile value of Bedrooms count: 3.0\n",
      "91th percenile value of Bedrooms count: 3.0\n",
      "92th percenile value of Bedrooms count: 3.0\n",
      "93th percenile value of Bedrooms count: 3.0\n",
      "94th percenile value of Bedrooms count: 3.0\n",
      "95th percenile value of Bedrooms count: 3.0\n",
      "96th percenile value of Bedrooms count: 3.0\n",
      "97th percenile value of Bedrooms count: 3.0\n",
      "98th percenile value of Bedrooms count: 3.0\n",
      "99th percenile value of Bedrooms count: 3.0\n",
      "100th percenile value of Bedrooms count: 3.0\n",
      "--------------------------------------------------\n",
      "90th percenile value of Bedrooms count: 2300.0\n",
      "91th percenile value of Bedrooms count: 2306.0\n",
      "92th percenile value of Bedrooms count: 2372.0000000000005\n",
      "93th percenile value of Bedrooms count: 2400.0\n",
      "94th percenile value of Bedrooms count: 2400.0\n",
      "95th percenile value of Bedrooms count: 2400.0\n",
      "96th percenile value of Bedrooms count: 2400.0\n",
      "97th percenile value of Bedrooms count: 2400.0\n",
      "98th percenile value of Bedrooms count: 2400.0\n",
      "99th percenile value of Bedrooms count: 2400.0\n",
      "100th percenile value of Bedrooms count: 2400.0\n",
      "--------------------------------------------------\n",
      "90th percenile value of Bedrooms count: 330000.0\n",
      "91th percenile value of Bedrooms count: 331200.00000000006\n",
      "92th percenile value of Bedrooms count: 344400.0000000001\n",
      "93th percenile value of Bedrooms count: 350000.0\n",
      "94th percenile value of Bedrooms count: 350000.0\n",
      "95th percenile value of Bedrooms count: 350000.0\n",
      "96th percenile value of Bedrooms count: 350000.0\n",
      "97th percenile value of Bedrooms count: 350000.0\n",
      "98th percenile value of Bedrooms count: 350000.0\n",
      "99th percenile value of Bedrooms count: 350000.0\n",
      "100th percenile value of Bedrooms count: 350000.0\n",
      "--------------------------------------------------\n"
     ]
    },
    {
     "data": {
      "image/png": "[encoded data removed]",
      "text/plain": [
       "<Figure size 800x300 with 1 Axes>"
      ]
     },
     "metadata": {},
     "output_type": "display_data"
    },
    {
     "data": {
      "image/png": "[encoded data removed]",
      "text/plain": [
       "<Figure size 800x300 with 1 Axes>"
      ]
     },
     "metadata": {},
     "output_type": "display_data"
    },
    {
     "data": {
      "image/png": "[encoded data removed]",
      "text/plain": [
       "<Figure size 800x300 with 1 Axes>"
      ]
     },
     "metadata": {},
     "output_type": "display_data"
    },
    {
     "data": {
      "text/plain": [
       "<Figure size 800x300 with 0 Axes>"
      ]
     },
     "metadata": {},
     "output_type": "display_data"
    },
    {
     "data": {
      "image/png": "[encoded data removed]",
      "text/plain": [
       "<Figure size 800x300 with 1 Axes>"
      ]
     },
     "metadata": {},
     "output_type": "display_data"
    }
   ],
   "source": [
    "# visualize the outliers using the 'plot_outliers' function\n",
    "for i in df.columns:\n",
    "    try:\n",
    "        plot_outliers(df, i)\n",
    "        print(\"-\"*50)\n",
    "    except:\n",
    "        continue"
   ]
  },
  {
   "cell_type": "markdown",
   "id": "a10dea63",
   "metadata": {},
   "source": [
    "## Preprocess the dataset"
   ]
  },
  {
   "cell_type": "code",
   "execution_count": 11,
   "id": "c2cb6529",
   "metadata": {},
   "outputs": [],
   "source": [
    "# split the data into the train and test datasets\n",
    "X = df.drop([\" SalePrice\"], axis = 1)\n",
    "y = df[\" SalePrice\"]\n",
    "X_train, y_train = X[:50], y[:50]\n",
    "X_test, y_test = X[50:], y[50:]"
   ]
  },
  {
   "cell_type": "code",
   "execution_count": 12,
   "id": "2dcc9080",
   "metadata": {
    "scrolled": false
   },
   "outputs": [
    {
     "data": {
      "application/vnd.jupyter.widget-view+json": {
       "model_id": "7d75da26557d478da5139e8194a712e3",
       "version_major": 2,
       "version_minor": 0
      },
      "text/plain": [
       "  0%|          | 0/3 [00:00<?, ?it/s]"
      ]
     },
     "metadata": {},
     "output_type": "display_data"
    }
   ],
   "source": [
    "# Normalize the Dataset\n",
    "scaler = MinMaxScaler()\n",
    "for col in tqdm(X_train.columns[:-1]):\n",
    "    X_train[col] = scaler.fit_transform(X_train[col].values.reshape(-1,1))\n",
    "    X_test[col] = scaler.transform(X_test[col].values.reshape(-1,1)) # we fit the scaler only using the training data\n",
    "    \n",
    "# label encode the Locations   \n",
    "vec = LabelEncoder()\n",
    "X_train[\" Location\"] = vec.fit_transform(X_train[\" Location\"])\n",
    "X_test[\" Location\"] = vec.transform(X_test[\" Location\"])\n"
   ]
  },
  {
   "cell_type": "markdown",
   "id": "9c92d408",
   "metadata": {},
   "source": [
    "## Model Traning"
   ]
  },
  {
   "cell_type": "markdown",
   "id": "1056b51b",
   "metadata": {},
   "source": [
    "### ALGO: Lasso Regression"
   ]
  },
  {
   "cell_type": "code",
   "execution_count": 13,
   "id": "0b85fd0b",
   "metadata": {},
   "outputs": [
    {
     "data": {
      "application/vnd.jupyter.widget-view+json": {
       "model_id": "4bbdda32a67f4fa1a8a87b121bae1254",
       "version_major": 2,
       "version_minor": 0
      },
      "text/plain": [
       "  0%|          | 0/12 [00:00<?, ?it/s]"
      ]
     },
     "metadata": {},
     "output_type": "display_data"
    },
    {
     "name": "stdout",
     "output_type": "stream",
     "text": [
      "alpha = 1e-06 \n",
      "model saving.....\n",
      "Training Loss is 10287.978462816862 \n",
      "Validation Loss is 11003.197429790325 \n",
      "--------------------------------------------------\n",
      "alpha = 1e-05 \n",
      "model saving.....\n",
      "Training Loss is 10287.978462816862 \n",
      "Validation Loss is 11003.197428345076 \n",
      "--------------------------------------------------\n",
      "alpha = 0.0001 \n",
      "model saving.....\n",
      "Training Loss is 10287.978462817056 \n",
      "Validation Loss is 11003.197420577551 \n",
      "--------------------------------------------------\n",
      "alpha = 0.001 \n",
      "Training Loss is 10287.978462847197 \n",
      "Validation Loss is 11003.198375787768 \n",
      "--------------------------------------------------\n",
      "alpha = 0.01 \n",
      "model saving.....\n",
      "Training Loss is 10287.978462920199 \n",
      "Validation Loss is 11003.192762659162 \n",
      "--------------------------------------------------\n",
      "alpha = 0.1 \n",
      "model saving.....\n",
      "Training Loss is 10287.97854821907 \n",
      "Validation Loss is 11003.166672963915 \n",
      "--------------------------------------------------\n",
      "alpha = 1 \n",
      "model saving.....\n",
      "Training Loss is 10287.992937924497 \n",
      "Validation Loss is 11003.002639251325 \n",
      "--------------------------------------------------\n",
      "alpha = 10 \n",
      "model saving.....\n",
      "Training Loss is 10289.7303142742 \n",
      "Validation Loss is 11002.959090849998 \n",
      "--------------------------------------------------\n",
      "alpha = 100 \n",
      "Training Loss is 10367.633288881645 \n",
      "Validation Loss is 11034.213089818799 \n",
      "--------------------------------------------------\n",
      "alpha = 1000 \n",
      "Training Loss is 10991.43186790884 \n",
      "Validation Loss is 11122.64395718246 \n",
      "--------------------------------------------------\n",
      "alpha = 10000 \n",
      "Training Loss is 32805.8611887013 \n",
      "Validation Loss is 33997.21710147031 \n",
      "--------------------------------------------------\n",
      "alpha = 100000 \n",
      "Training Loss is 63968.7423668779 \n",
      "Validation Loss is 66311.20923786743 \n",
      "--------------------------------------------------\n"
     ]
    }
   ],
   "source": [
    "alpha = [10**i for i in range(-6,6)]\n",
    "\n",
    "\n",
    "train_score = []\n",
    "val_score = []\n",
    "for i in tqdm(alpha):\n",
    "    \n",
    "    print(\"alpha = {} \".format(i))\n",
    "    _model = Lasso(alpha= i)\n",
    "    _model.fit(X_train, y_train)\n",
    "    rmse_train = mean_squared_error(_model.predict(X_train), y_train, squared=False)\n",
    "    rmse_val = mean_squared_error(_model.predict(X_test), y_test, squared=False)\n",
    "    \n",
    "    # auto-saving the model with the less RMSE \n",
    "    if val_score:\n",
    "        if sorted(val_score)[0] > rmse_val:\n",
    "            print(\"model saving.....\")\n",
    "            with open('best_lasso','wb') as loc:\n",
    "                pickle.dump(_model, loc)\n",
    "    else:\n",
    "        print(\"model saving.....\")\n",
    "        with open('best_lasso', 'wb') as loc:\n",
    "            pickle.dump(_model, loc)\n",
    "\n",
    "    train_score.append(rmse_train)\n",
    "    val_score.append(rmse_val)\n",
    "    print(\"Training Loss is {} \".format(rmse_train))\n",
    "    print(\"Validation Loss is {} \".format(rmse_val))\n",
    "    print(\"-\"*50)\n",
    "    \n",
    "with open('lasso_log','wb') as loc:\n",
    "    pickle.dump((train_score,val_score,alpha),loc)"
   ]
  },
  {
   "cell_type": "code",
   "execution_count": 14,
   "id": "bcefc1df",
   "metadata": {},
   "outputs": [
    {
     "data": {
      "image/png": "[encoded data removed]",
      "text/plain": [
       "<Figure size 1500x1000 with 1 Axes>"
      ]
     },
     "metadata": {},
     "output_type": "display_data"
    }
   ],
   "source": [
    "params = [str(i) for i in alpha]\n",
    "fig, ax = plt.subplots(figsize=(15,10))\n",
    "ax.plot(params, val_score,c='g')\n",
    "for i, txt in enumerate(np.round(val_score,3)):\n",
    "    ax.annotate((params[i],np.round(txt,3)), (params[i],val_score[i]))\n",
    "plt.grid()\n",
    "plt.title(\"Cross Validation rmse for para grid\")\n",
    "plt.xlabel(\"ALPHA\")\n",
    "plt.ylabel(\"Error measure\")\n",
    "plt.show()"
   ]
  },
  {
   "cell_type": "markdown",
   "id": "9e959544",
   "metadata": {},
   "source": [
    "## Evaluate the result"
   ]
  },
  {
   "cell_type": "code",
   "execution_count": 15,
   "id": "793a1c5c",
   "metadata": {},
   "outputs": [],
   "source": [
    "# Import the best performing model\n",
    "with open('best_lasso','rb') as loc:\n",
    "    best_lasso = pickle.load(loc)"
   ]
  },
  {
   "cell_type": "code",
   "execution_count": 16,
   "id": "fab36bb7",
   "metadata": {},
   "outputs": [
    {
     "data": {
      "text/plain": [
       "10289.7303142742"
      ]
     },
     "execution_count": 16,
     "metadata": {},
     "output_type": "execute_result"
    }
   ],
   "source": [
    "# Calculate RMSE on test dataset\n",
    "mean_squared_error(best_lasso.predict(X_train), y_train, squared=False)"
   ]
  },
  {
   "cell_type": "code",
   "execution_count": null,
   "id": "2a8bc6af",
   "metadata": {},
   "outputs": [],
   "source": []
  }
 ],
 "metadata": {
  "kernelspec": {
   "display_name": "Python 3 (ipykernel)",
   "language": "python",
   "name": "python3"
  },
  "language_info": {
   "codemirror_mode": {
    "name": "ipython",
    "version": 3
   },
   "file_extension": ".py",
   "mimetype": "text/x-python",
   "name": "python",
   "nbconvert_exporter": "python",
   "pygments_lexer": "ipython3",
   "version": "3.9.15"
  }
 },
 "nbformat": 4,
 "nbformat_minor": 5
}
